{
 "cells": [
  {
   "cell_type": "code",
   "execution_count": 1,
   "id": "8af783d3-3f03-48ca-985b-bf2d9f5ee945",
   "metadata": {},
   "outputs": [],
   "source": [
    "# Question 1 - What is Abstraction in OOPs? Expalin with an example."
   ]
  },
  {
   "cell_type": "code",
   "execution_count": 2,
   "id": "579c3c22-74b7-43d7-a7d8-1017ff3d8f51",
   "metadata": {},
   "outputs": [],
   "source": [
    "# Answer - Abstraction in python is defined as a process of handling complexity by hiding unnecessary information from the user.\n",
    "# Example - Car is a great example of abstraction . you can start a car by turning the keybor pressing the start button.\n",
    "#           You don't need toknow how the engine is getting started,what all components your car has. The car internal implemention\n",
    "#           and complex logic is completely hidden from the user."
   ]
  },
  {
   "cell_type": "code",
   "execution_count": 3,
   "id": "ac2cef9a-9c90-4259-bf4b-881d85197c22",
   "metadata": {},
   "outputs": [],
   "source": [
    "# Question 2 -Differentiate between Abstraction and Encapsulation.Explain with an example."
   ]
  },
  {
   "cell_type": "code",
   "execution_count": 4,
   "id": "a2dedea8-463b-485e-a8c0-db69629784b2",
   "metadata": {},
   "outputs": [],
   "source": [
    "# Answer - Abstraction is implemented to hide unnecessary data and withdrawing relevant data.\n",
    "#          Encapsulation is the mechanism of hiding the code and data together from the outside world or misuse.\n",
    "# Example - Our cell phone . The notion of a smart phone is an abstraction , within which certain features and\n",
    "#          services are encapsulated .The IPhone and Galaxy are further abstractions of the higher level abstraction.\n",
    "#          Your physical Iphone or Galaxy are concrete example of multiple layer of abstraction which contain encapsulated\n",
    "#          features and services."
   ]
  },
  {
   "cell_type": "code",
   "execution_count": 5,
   "id": "ebc5351d-c6db-4500-b247-1b2c31afb3ff",
   "metadata": {},
   "outputs": [],
   "source": [
    "# Question 3 - What is abc module in python ? Why is it used?"
   ]
  },
  {
   "cell_type": "code",
   "execution_count": 7,
   "id": "c6a320a2-e7e6-4787-8e95-cbafe5fa1a58",
   "metadata": {},
   "outputs": [],
   "source": [
    "# Answer - An abstract class is one of important concept in object oriented programming.it is like blueprint for other classes.\n",
    "#         The abc module in python library provides the infrastructure for defining custom abstract base classes.this is\n",
    "#          done by the @absttractmethod decorator."
   ]
  },
  {
   "cell_type": "code",
   "execution_count": 8,
   "id": "04c7de33-1335-4668-8d2a-727698750b50",
   "metadata": {},
   "outputs": [],
   "source": [
    "# Question 4 - How can we achieve data abstraction?"
   ]
  },
  {
   "cell_type": "code",
   "execution_count": 9,
   "id": "409c90ce-1cb4-4d46-ae25-45889e4a7e1a",
   "metadata": {},
   "outputs": [],
   "source": [
    "# Answer - Data Abstraction in Python can be achieved through creating abstract classes and inheriting them later."
   ]
  },
  {
   "cell_type": "code",
   "execution_count": 10,
   "id": "8a8acea4-efbc-44b8-a427-d38a17a91970",
   "metadata": {},
   "outputs": [],
   "source": [
    "# Question 5 - Can we create an instance of an abstract class? Expalin your example"
   ]
  },
  {
   "cell_type": "code",
   "execution_count": null,
   "id": "a64a5fc2-b1f8-423d-90ff-40ee30aa7e4e",
   "metadata": {},
   "outputs": [],
   "source": [
    "# Answer - We cannot create an abstract class in Python directly.However, python does provide a module that allow\n",
    "#        us to define abstract classes.The module we can use to create "
   ]
  }
 ],
 "metadata": {
  "kernelspec": {
   "display_name": "Python 3 (ipykernel)",
   "language": "python",
   "name": "python3"
  },
  "language_info": {
   "codemirror_mode": {
    "name": "ipython",
    "version": 3
   },
   "file_extension": ".py",
   "mimetype": "text/x-python",
   "name": "python",
   "nbconvert_exporter": "python",
   "pygments_lexer": "ipython3",
   "version": "3.10.8"
  }
 },
 "nbformat": 4,
 "nbformat_minor": 5
}
